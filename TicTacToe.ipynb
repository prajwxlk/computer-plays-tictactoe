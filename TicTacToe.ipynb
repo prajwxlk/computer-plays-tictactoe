{
 "cells": [
  {
   "cell_type": "markdown",
   "id": "ed951b20-6cb1-426c-9b80-5b6c58be9db9",
   "metadata": {},
   "source": [
    "# Computer plays TicTacToe"
   ]
  },
  {
   "cell_type": "markdown",
   "id": "46ad891e-17bc-4d9d-9625-e20dd1ea6cbf",
   "metadata": {},
   "source": [
    "### 1. Rule-based Logic\n",
    "1. If you can win in the next step, mark the winning block.\n",
    "2. If the opponent is winning in the next step, mark the block which blocks the opponent from winning.\n",
    "3. If the center block is available, mark it.\n",
    "4. If a corner piece, is available - mark it.\n",
    "5. If none of the above moves are available, mark a side block"
   ]
  },
  {
   "cell_type": "code",
   "execution_count": 25,
   "id": "119604d8-3de8-4912-8041-8c40bfdef5ca",
   "metadata": {},
   "outputs": [],
   "source": [
    "import numpy as np"
   ]
  },
  {
   "cell_type": "code",
   "execution_count": 36,
   "id": "aadcee76-6eee-4a10-bdaf-78a93782cc07",
   "metadata": {},
   "outputs": [],
   "source": [
    "board = np.array([\" \"] * 9)"
   ]
  },
  {
   "cell_type": "code",
   "execution_count": 37,
   "id": "dfc35775-c6da-4152-aa82-b30145706318",
   "metadata": {},
   "outputs": [],
   "source": [
    "def print_board(board):\n",
    "    print(f\"{board[0]} | {board[1]} | {board[2]}\")\n",
    "    print(\"--+---+--\")\n",
    "    print(f\"{board[3]} | {board[4]} | {board[5]}\")\n",
    "    print(\"--+---+--\")\n",
    "    print(f\"{board[6]} | {board[7]} | {board[8]}\")"
   ]
  },
  {
   "cell_type": "code",
   "execution_count": 38,
   "id": "20ff186a-b0d3-464a-a6ea-486107fe40fa",
   "metadata": {},
   "outputs": [
    {
     "name": "stdout",
     "output_type": "stream",
     "text": [
      "  |   |  \n",
      "--+---+--\n",
      "  |   |  \n",
      "--+---+--\n",
      "  |   |  \n"
     ]
    }
   ],
   "source": [
    "print_board(board)"
   ]
  },
  {
   "cell_type": "markdown",
   "id": "3c4aeff2-5900-4a07-bd18-62ba4f7df75b",
   "metadata": {},
   "source": [
    "**Winning Moves**\n",
    "\n",
    "1. 1-2-3\n",
    "2. 1-4-7\n",
    "3. 1-5-9\n",
    "4. 3-5-7\n",
    "5. 3-6-9\n",
    "6. 7-8-9\n",
    "7. 2-5-8\n",
    "8. 4-5-6"
   ]
  },
  {
   "cell_type": "code",
   "execution_count": 48,
   "id": "2c606393-b9ad-4a73-8572-14aedf1d75bd",
   "metadata": {},
   "outputs": [],
   "source": [
    "def check_winner(board, player):\n",
    "    #check for rows\n",
    "    for i in range(0, 9, 3):\n",
    "        if np.all(board[i, i+3] == player):\n",
    "            return True\n",
    "\n",
    "    #check for columns\n",
    "    for i in range(3):\n",
    "        if np.all(board[i::3] == player):\n",
    "            return True\n",
    "\n",
    "    #check for diagonals\n",
    "    if np.all(np.diag(board) == player) or np.all(np.diag(np.fliplr(board)) == player):\n",
    "        return True\n",
    "\n",
    "    #if none of the above conditions return true, return false\n",
    "    return False"
   ]
  },
  {
   "cell_type": "code",
   "execution_count": 50,
   "id": "767ee58a-07bc-46ab-b30e-c51b14b231f8",
   "metadata": {},
   "outputs": [],
   "source": [
    "def get_available_moves(board):\n",
    "    return np.where(board == ' ')[0]"
   ]
  },
  {
   "cell_type": "code",
   "execution_count": null,
   "id": "c60cfeb1-28ae-4a22-9bb1-208b098e0020",
   "metadata": {},
   "outputs": [],
   "source": []
  }
 ],
 "metadata": {
  "kernelspec": {
   "display_name": "Python 3 (ipykernel)",
   "language": "python",
   "name": "python3"
  },
  "language_info": {
   "codemirror_mode": {
    "name": "ipython",
    "version": 3
   },
   "file_extension": ".py",
   "mimetype": "text/x-python",
   "name": "python",
   "nbconvert_exporter": "python",
   "pygments_lexer": "ipython3",
   "version": "3.13.1"
  }
 },
 "nbformat": 4,
 "nbformat_minor": 5
}
