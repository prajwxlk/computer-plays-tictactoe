{
 "cells": [
  {
   "cell_type": "markdown",
   "id": "ed951b20-6cb1-426c-9b80-5b6c58be9db9",
   "metadata": {},
   "source": [
    "# Computer plays TicTacToe"
   ]
  },
  {
   "cell_type": "markdown",
   "id": "28383128",
   "metadata": {},
   "source": [
    "### Rules for Playing Tic-Tac-Toe\n",
    "\n",
    "1. Game Setup\n",
    "\t•\tThe game is played on a 3×3 grid.\n",
    "\t•\tThere are two players: one uses X, and the other uses O.\n",
    "\t•\tPlayers take turns placing their symbol (X or O) in an empty square.\n",
    "\n",
    "2. How to Win\n",
    "\t•\tA player wins if they place three of their symbols in a row (horizontally, vertically, or diagonally).\n",
    "\t•\tIf all nine squares are filled and no player has three in a row, the game is a draw.\n",
    "\n",
    "3. Game Rules\n",
    "\t•\tPlayers alternate turns, starting with the X player.\n",
    "\t•\tA player can only place their symbol in an empty square.\n",
    "\t•\tThe game ends immediately when a player wins or the grid is full (draw)."
   ]
  },
  {
   "cell_type": "markdown",
   "id": "46ad891e-17bc-4d9d-9625-e20dd1ea6cbf",
   "metadata": {},
   "source": [
    "### 1. Rule-based Logic\n",
    "1. If you can win in the next step, mark the winning block.\n",
    "2. If the opponent is winning in the next step, mark the block which blocks the opponent from winning.\n",
    "3. If the center block is available, mark it.\n",
    "4. If a corner piece, is available - mark it.\n",
    "5. If none of the above moves are available, mark a side block"
   ]
  },
  {
   "cell_type": "code",
   "execution_count": 104,
   "id": "119604d8-3de8-4912-8041-8c40bfdef5ca",
   "metadata": {},
   "outputs": [],
   "source": [
    "import numpy as np\n",
    "import pandas as pd"
   ]
  },
  {
   "cell_type": "code",
   "execution_count": 105,
   "id": "aadcee76-6eee-4a10-bdaf-78a93782cc07",
   "metadata": {},
   "outputs": [],
   "source": [
    "def create_board(size:int):\n",
    "    return np.full((size,size), \" \", dtype=str)\n",
    "\n",
    "board = create_board(3)"
   ]
  },
  {
   "cell_type": "code",
   "execution_count": 106,
   "id": "dfc35775-c6da-4152-aa82-b30145706318",
   "metadata": {},
   "outputs": [],
   "source": [
    "def print_board(board):\n",
    "    for i in range(len(board)):\n",
    "        print(\" | \".join(board[i]))\n",
    "        if i < len(board) - 1:\n",
    "            print(\"--+\" + \"---+\" * (len(board) - 2) + \"--\")"
   ]
  },
  {
   "cell_type": "code",
   "execution_count": 107,
   "id": "20ff186a-b0d3-464a-a6ea-486107fe40fa",
   "metadata": {},
   "outputs": [
    {
     "name": "stdout",
     "output_type": "stream",
     "text": [
      "  |   |  \n",
      "--+---+--\n",
      "  |   |  \n",
      "--+---+--\n",
      "  |   |  \n"
     ]
    }
   ],
   "source": [
    "print_board(board)"
   ]
  },
  {
   "cell_type": "markdown",
   "id": "3c4aeff2-5900-4a07-bd18-62ba4f7df75b",
   "metadata": {},
   "source": [
    "**Winning Moves**\n",
    "\n",
    "1. 1-2-3\n",
    "2. 1-4-7\n",
    "3. 1-5-9\n",
    "4. 3-5-7\n",
    "5. 3-6-9\n",
    "6. 7-8-9\n",
    "7. 2-5-8\n",
    "8. 4-5-6"
   ]
  },
  {
   "cell_type": "code",
   "execution_count": 108,
   "id": "2c606393-b9ad-4a73-8572-14aedf1d75bd",
   "metadata": {},
   "outputs": [],
   "source": [
    "def check_winner(board, player, size:int):\n",
    "    # Check for rows\n",
    "    for i in range(size):\n",
    "        if np.all(board[i, :] == player):\n",
    "            return True\n",
    "\n",
    "    # Check for columns\n",
    "    for i in range(size):\n",
    "        if np.all(board[:, i] == player):\n",
    "            return True\n",
    "\n",
    "    # Check for diagonals\n",
    "    if np.all(np.diag(board) == player) or np.all(np.diag(np.fliplr(board)) == player):\n",
    "        return True\n",
    "\n",
    "    return False"
   ]
  },
  {
   "cell_type": "code",
   "execution_count": 109,
   "id": "767ee58a-07bc-46ab-b30e-c51b14b231f8",
   "metadata": {},
   "outputs": [],
   "source": [
    "def get_available_moves(board):\n",
    "    return [(int(r), int(c)) for r, c in zip(*np.where(board == ' '))]"
   ]
  },
  {
   "cell_type": "code",
   "execution_count": 110,
   "id": "29413dfb-243a-4f79-84f3-2c5385876b84",
   "metadata": {},
   "outputs": [
    {
     "data": {
      "text/plain": [
       "[(0, 0), (0, 1), (0, 2), (1, 0), (1, 1), (1, 2), (2, 0), (2, 1), (2, 2)]"
      ]
     },
     "execution_count": 110,
     "metadata": {},
     "output_type": "execute_result"
    }
   ],
   "source": [
    "get_available_moves(board)"
   ]
  },
  {
   "cell_type": "code",
   "execution_count": 111,
   "id": "c60cfeb1-28ae-4a22-9bb1-208b098e0020",
   "metadata": {},
   "outputs": [],
   "source": [
    "def get_best_move(board, player, size):\n",
    "    opponent = \"O\" if player == \"X\" else \"X\"\n",
    "\n",
    "    # Rule 1: If there's a winning step, take it\n",
    "    for r, c in get_available_moves(board):\n",
    "        board[r, c] = player\n",
    "        if check_winner(board, player, size):  # Pass size to check_winner\n",
    "            board[r, c] = \" \"  # Undo the move\n",
    "            return (r, c)\n",
    "        board[r, c] = \" \"  # Undo the move\n",
    "\n",
    "    # Rule 2: Block opponent's winning move\n",
    "    for r, c in get_available_moves(board):\n",
    "        board[r, c] = opponent\n",
    "        if check_winner(board, opponent, size):  # Pass size to check_winner\n",
    "            board[r, c] = \" \"  # Undo the move\n",
    "            return (r, c)\n",
    "        board[r, c] = \" \"  # Undo the move\n",
    "\n",
    "    # Rule 3: Take the center if available\n",
    "    if size % 2 == 1:  # Center exists only for odd-sized boards\n",
    "        center = size // 2\n",
    "        if board[center, center] == \" \":\n",
    "            return (center, center)\n",
    "\n",
    "    # Rule 4: Take a corner if available\n",
    "    corners = [(0, 0), (0, size-1), (size-1, 0), (size-1, size-1)]\n",
    "    for r, c in corners:\n",
    "        if board[r, c] == \" \":\n",
    "            return (r, c)\n",
    "\n",
    "    # Rule 5: Take a side if available\n",
    "    sides = [(r, c) for r in range(size) for c in range(size) if (r == 0 or r == size-1 or c == 0 or c == size-1) and (r, c) not in corners]\n",
    "    for r, c in sides:\n",
    "        if board[r, c] == \" \":\n",
    "            return (r, c)\n",
    "\n",
    "    return None"
   ]
  },
  {
   "cell_type": "markdown",
   "id": "57967c20-07d1-4e8c-a4d6-f256b88b302c",
   "metadata": {},
   "source": [
    "# self play simulation"
   ]
  },
  {
   "cell_type": "code",
   "execution_count": 112,
   "id": "cbdea388-c7f3-4090-87cd-5757c7e10283",
   "metadata": {},
   "outputs": [],
   "source": [
    "#matrix size = 3\n",
    "matrixSize = 3\n",
    "\n",
    "def play_game():\n",
    "    #initialize new fresh board\n",
    "    board = create_board(matrixSize)\n",
    "\n",
    "    #set current player to X\n",
    "    current_player = \"X\"\n",
    "\n",
    "    while True:\n",
    "        #print the fresh board\n",
    "        print_board(board)\n",
    "\n",
    "        #get the best move for the player\n",
    "        move = get_best_move(board, current_player, matrixSize)\n",
    "\n",
    "        #if no valid move is remaining, draw the match\n",
    "        if move is None:\n",
    "            print(\"It's a draw\")\n",
    "            break\n",
    "\n",
    "        #set the player's best move as selected move\n",
    "        board[move] = current_player\n",
    "\n",
    "        #check if the player wins with the selected move\n",
    "        if check_winner(board, current_player, matrixSize):\n",
    "            print_board(board)\n",
    "            print(f\"Player {current_player} wins!\")\n",
    "            break\n",
    "\n",
    "        #switch players\n",
    "        current_player = \"O\" if current_player == \"X\" else \"X\""
   ]
  },
  {
   "cell_type": "code",
   "execution_count": 113,
   "id": "abbc90c4-38d3-499d-8c48-85a406d3360a",
   "metadata": {},
   "outputs": [
    {
     "name": "stdout",
     "output_type": "stream",
     "text": [
      "  |   |  \n",
      "--+---+--\n",
      "  |   |  \n",
      "--+---+--\n",
      "  |   |  \n",
      "  |   |  \n",
      "--+---+--\n",
      "  | X |  \n",
      "--+---+--\n",
      "  |   |  \n",
      "O |   |  \n",
      "--+---+--\n",
      "  | X |  \n",
      "--+---+--\n",
      "  |   |  \n",
      "O |   | X\n",
      "--+---+--\n",
      "  | X |  \n",
      "--+---+--\n",
      "  |   |  \n",
      "O |   | X\n",
      "--+---+--\n",
      "  | X |  \n",
      "--+---+--\n",
      "O |   |  \n",
      "O |   | X\n",
      "--+---+--\n",
      "X | X |  \n",
      "--+---+--\n",
      "O |   |  \n",
      "O |   | X\n",
      "--+---+--\n",
      "X | X | O\n",
      "--+---+--\n",
      "O |   |  \n",
      "O |   | X\n",
      "--+---+--\n",
      "X | X | O\n",
      "--+---+--\n",
      "O |   | X\n",
      "O | O | X\n",
      "--+---+--\n",
      "X | X | O\n",
      "--+---+--\n",
      "O |   | X\n",
      "O | O | X\n",
      "--+---+--\n",
      "X | X | O\n",
      "--+---+--\n",
      "O | X | X\n",
      "It's a draw\n"
     ]
    }
   ],
   "source": [
    "play_game()"
   ]
  },
  {
   "cell_type": "code",
   "execution_count": 114,
   "id": "56fcd642-11ff-418f-8f5b-255cb138dc00",
   "metadata": {},
   "outputs": [],
   "source": [
    "import random \n",
    "def simulate_game(starting_player, size:int, player_x_strategy=True, player_o_strategy=True):\n",
    "    board = create_board(size)\n",
    "    current_player = starting_player\n",
    "    move_count = 0\n",
    "\n",
    "    while True:\n",
    "        if current_player == \"X\":\n",
    "            use_smart_strategy = player_x_strategy\n",
    "        else:\n",
    "            use_smart_strategy = player_o_strategy\n",
    "\n",
    "        if use_smart_strategy:\n",
    "            move = get_best_move(board, current_player, size)\n",
    "        else:\n",
    "            available_moves = get_available_moves(board)\n",
    "            move = random.choice(available_moves) if available_moves else None\n",
    "\n",
    "        if move is None:\n",
    "            return \"Draw\", move_count\n",
    "\n",
    "        board[move] = current_player\n",
    "        move_count += 1\n",
    "\n",
    "        if check_winner(board, current_player, size):\n",
    "            return current_player, move_count\n",
    "\n",
    "        current_player = \"O\" if current_player == \"X\" else \"X\""
   ]
  },
  {
   "cell_type": "code",
   "execution_count": 119,
   "id": "60c5185f-e8c9-4bdf-bc07-3955f6637413",
   "metadata": {},
   "outputs": [],
   "source": [
    "import time\n",
    "\n",
    "def run_simulation(size:int, num_games=10000, player_x_strategy=True, player_o_strategy=True):\n",
    "    start_time = time.time()\n",
    "    x_wins, o_wins, draws = 0, 0, 0\n",
    "    move_counts = []\n",
    "\n",
    "    for _ in range(num_games):\n",
    "        starting_player = random.choice([\"X\", \"O\"])\n",
    "        winner, move_count = simulate_game(starting_player, size, player_x_strategy, player_o_strategy)\n",
    "        if winner == \"X\":\n",
    "            x_wins += 1\n",
    "        elif winner == \"O\":\n",
    "            o_wins += 1\n",
    "        else:\n",
    "            draws += 1\n",
    "        move_counts.append(move_count)\n",
    "\n",
    "    total_time = time.time() - start_time\n",
    "    avg_moves = sum(move_counts) / num_games\n",
    "    min_moves = min(move_counts)\n",
    "    max_moves = max(move_counts)\n",
    "\n",
    "    strategy_type_x = \"Smart\" if player_x_strategy else \"Random\"\n",
    "    strategy_type_o = \"Smart\" if player_o_strategy else \"Random\"\n",
    "\n",
    "    # Create a DataFrame to display results in a table\n",
    "    results_df = pd.DataFrame({\n",
    "        \"Strategy X\": [strategy_type_x],\n",
    "        \"Strategy O\": [strategy_type_o],\n",
    "        \"X Wins\": [x_wins],\n",
    "        \"O Wins\": [o_wins],\n",
    "        \"Draws\": [draws],\n",
    "        \"Total Time (s)\": [total_time],\n",
    "        \"Avg Moves/Game\": [avg_moves],\n",
    "        \"Min Moves\": [min_moves],\n",
    "        \"Max Moves\": [max_moves]\n",
    "    })\n",
    "\n",
    "    print(results_df)"
   ]
  },
  {
   "cell_type": "markdown",
   "id": "32146118",
   "metadata": {},
   "source": [
    "# 3x3 Grid Simulation"
   ]
  },
  {
   "cell_type": "code",
   "execution_count": null,
   "id": "fef9e885",
   "metadata": {},
   "outputs": [
    {
     "name": "stdout",
     "output_type": "stream",
     "text": [
      "Random VS Random\n",
      "  Strategy X Strategy O  X Wins  O Wins  Draws  Total Time (s)  \\\n",
      "0     Random     Random    4343    4367   1290        0.981741   \n",
      "\n",
      "   Avg Moves/Game  Min Moves  Max Moves  \n",
      "0          7.6423          5          9  \n",
      "================================================================================\n",
      "Smart vs Random\n",
      "  Strategy X Strategy O  X Wins  O Wins  Draws  Total Time (s)  \\\n",
      "0      Smart     Random    9060      67    873        4.574771   \n",
      "\n",
      "   Avg Moves/Game  Min Moves  Max Moves  \n",
      "0          6.1379          5          9  \n",
      "================================================================================\n",
      "Smart vs Smart\n",
      "  Strategy X Strategy O  X Wins  O Wins  Draws  Total Time (s)  \\\n",
      "0      Smart      Smart       0       0  10000       10.421266   \n",
      "\n",
      "   Avg Moves/Game  Min Moves  Max Moves  \n",
      "0             9.0          9          9  \n"
     ]
    }
   ],
   "source": [
    "# Run simulations for 3x3 Grid\n",
    "\n",
    "gridSize = 3\n",
    "\n",
    "print(\"Random VS Random\")\n",
    "run_simulation(gridSize, 10000, player_x_strategy=False, player_o_strategy=False)  # Random vs Random\n",
    "print(\"================================================================================\")\n",
    "print(\"Smart vs Random\")\n",
    "run_simulation(gridSize, 10000, player_x_strategy=True, player_o_strategy=False)   # Smart vs Random\n",
    "print(\"================================================================================\")\n",
    "print(\"Smart vs Smart\")\n",
    "run_simulation(gridSize, 10000, player_x_strategy=True, player_o_strategy=True)    # Smart vs Smart"
   ]
  },
  {
   "cell_type": "markdown",
   "id": "84570111",
   "metadata": {},
   "source": [
    "# 5x5 Grid Simulation"
   ]
  },
  {
   "cell_type": "code",
   "execution_count": 126,
   "id": "5bd0763e",
   "metadata": {},
   "outputs": [
    {
     "name": "stdout",
     "output_type": "stream",
     "text": [
      "Random VS Random\n",
      "  Strategy X Strategy O  X Wins  O Wins  Draws  Total Time (s)  \\\n",
      "0     Random     Random    2049    2017   5934        4.325171   \n",
      "\n",
      "   Avg Moves/Game  Min Moves  Max Moves  \n",
      "0         23.6881          9         25  \n",
      "================================================================================\n",
      "Smart vs Random\n",
      "  Strategy X Strategy O  X Wins  O Wins  Draws  Total Time (s)  \\\n",
      "0      Smart     Random    5273      23   4704       49.948463   \n",
      "\n",
      "   Avg Moves/Game  Min Moves  Max Moves  \n",
      "0         19.7465         11         25  \n",
      "================================================================================\n",
      "Smart vs Smart\n",
      "  Strategy X Strategy O  X Wins  O Wins  Draws  Total Time (s)  \\\n",
      "0      Smart      Smart       0       0  10000       96.944147   \n",
      "\n",
      "   Avg Moves/Game  Min Moves  Max Moves  \n",
      "0            17.0         17         17  \n"
     ]
    }
   ],
   "source": [
    "# Run simulations for 5x5 Grid\n",
    "\n",
    "gridSize = 5\n",
    "\n",
    "print(\"Random VS Random\")\n",
    "run_simulation(gridSize, 10000, player_x_strategy=False, player_o_strategy=False)  # Random vs Random\n",
    "print(\"================================================================================\")\n",
    "print(\"Smart vs Random\")\n",
    "run_simulation(gridSize, 10000, player_x_strategy=True, player_o_strategy=False)   # Smart vs Random\n",
    "print(\"================================================================================\")\n",
    "print(\"Smart vs Smart\")\n",
    "run_simulation(gridSize, 10000, player_x_strategy=True, player_o_strategy=True)    # Smart vs Smart"
   ]
  },
  {
   "cell_type": "markdown",
   "id": "d6ea0e3a",
   "metadata": {},
   "source": [
    "# 9x9 Grid Simulation\n",
    "### 1000 Games"
   ]
  },
  {
   "cell_type": "code",
   "execution_count": 128,
   "id": "b878670a",
   "metadata": {},
   "outputs": [
    {
     "name": "stdout",
     "output_type": "stream",
     "text": [
      "Random VS Random\n",
      "  Strategy X Strategy O  X Wins  O Wins  Draws  Total Time (s)  \\\n",
      "0     Random     Random      27      20    953        2.393977   \n",
      "\n",
      "   Avg Moves/Game  Min Moves  Max Moves  \n",
      "0          80.763         45         81  \n",
      "================================================================================\n",
      "Smart vs Random\n",
      "  Strategy X Strategy O  X Wins  O Wins  Draws  Total Time (s)  \\\n",
      "0      Smart     Random     551       0    449       59.421117   \n",
      "\n",
      "   Avg Moves/Game  Min Moves  Max Moves  \n",
      "0          39.261         19         59  \n",
      "================================================================================\n",
      "Smart vs Smart\n",
      "  Strategy X Strategy O  X Wins  O Wins  Draws  Total Time (s)  \\\n",
      "0      Smart      Smart       0       0   1000      111.124004   \n",
      "\n",
      "   Avg Moves/Game  Min Moves  Max Moves  \n",
      "0            33.0         33         33  \n"
     ]
    }
   ],
   "source": [
    "# Run simulations for 9x9 Grid\n",
    "\n",
    "gridSize = 9\n",
    "noOfGames = 1000\n",
    "\n",
    "print(\"Random VS Random\")\n",
    "run_simulation(gridSize, noOfGames, player_x_strategy=False, player_o_strategy=False)  # Random vs Random\n",
    "print(\"================================================================================\")\n",
    "print(\"Smart vs Random\")\n",
    "run_simulation(gridSize, noOfGames, player_x_strategy=True, player_o_strategy=False)   # Smart vs Random\n",
    "print(\"================================================================================\")\n",
    "print(\"Smart vs Smart\")\n",
    "run_simulation(gridSize, noOfGames, player_x_strategy=True, player_o_strategy=True)    # Smart vs Smart"
   ]
  },
  {
   "cell_type": "markdown",
   "id": "7300769e",
   "metadata": {},
   "source": [
    "### 10000 Games"
   ]
  },
  {
   "cell_type": "code",
   "execution_count": null,
   "id": "74055ea8",
   "metadata": {},
   "outputs": [],
   "source": [
    "# Run simulations for 9x9 Grid\n",
    "\n",
    "gridSize = 9\n",
    "noOfGames = 10000\n",
    "\n",
    "print(\"Random VS Random\")\n",
    "run_simulation(gridSize, noOfGames, player_x_strategy=False, player_o_strategy=False)  # Random vs Random\n",
    "print(\"================================================================================\")\n",
    "print(\"Smart vs Random\")\n",
    "run_simulation(gridSize, noOfGames, player_x_strategy=True, player_o_strategy=False)   # Smart vs Random\n",
    "print(\"================================================================================\")\n",
    "print(\"Smart vs Smart\")\n",
    "run_simulation(gridSize, noOfGames, player_x_strategy=True, player_o_strategy=True)    # Smart vs Smart"
   ]
  }
 ],
 "metadata": {
  "kernelspec": {
   "display_name": ".venv",
   "language": "python",
   "name": "python3"
  },
  "language_info": {
   "codemirror_mode": {
    "name": "ipython",
    "version": 3
   },
   "file_extension": ".py",
   "mimetype": "text/x-python",
   "name": "python",
   "nbconvert_exporter": "python",
   "pygments_lexer": "ipython3",
   "version": "3.13.1"
  }
 },
 "nbformat": 4,
 "nbformat_minor": 5
}
