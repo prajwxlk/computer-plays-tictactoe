{
 "cells": [
  {
   "cell_type": "markdown",
   "id": "ed951b20-6cb1-426c-9b80-5b6c58be9db9",
   "metadata": {},
   "source": [
    "# Computer plays TicTacToe"
   ]
  },
  {
   "cell_type": "markdown",
   "id": "46ad891e-17bc-4d9d-9625-e20dd1ea6cbf",
   "metadata": {},
   "source": [
    "### 1. Rule-based Logic\n",
    "1. If you can win in the next step, mark the winning block.\n",
    "2. If the opponent is winning in the next step, mark the block which blocks the opponent from winning.\n",
    "3. If the center block is available, mark it.\n",
    "4. If a corner piece, is available - mark it.\n",
    "5. If none of the above moves are available, mark a side block"
   ]
  },
  {
   "cell_type": "code",
   "execution_count": 25,
   "id": "119604d8-3de8-4912-8041-8c40bfdef5ca",
   "metadata": {},
   "outputs": [],
   "source": [
    "import numpy as np"
   ]
  },
  {
   "cell_type": "code",
   "execution_count": 65,
   "id": "aadcee76-6eee-4a10-bdaf-78a93782cc07",
   "metadata": {},
   "outputs": [],
   "source": [
    "board = np.full((3, 3), \" \", dtype=str)"
   ]
  },
  {
   "cell_type": "code",
   "execution_count": 60,
   "id": "dfc35775-c6da-4152-aa82-b30145706318",
   "metadata": {},
   "outputs": [],
   "source": [
    "def print_board(board):\n",
    "    print(f\"{board[0][0]} | {board[0][1]} | {board[0][2]}\")\n",
    "    print(\"--+---+--\")\n",
    "    print(f\"{board[1][0]} | {board[1][1]} | {board[1][2]}\")\n",
    "    print(\"--+---+--\")\n",
    "    print(f\"{board[2][0]} | {board[2][1]} | {board[2][2]}\")"
   ]
  },
  {
   "cell_type": "code",
   "execution_count": 61,
   "id": "20ff186a-b0d3-464a-a6ea-486107fe40fa",
   "metadata": {},
   "outputs": [
    {
     "name": "stdout",
     "output_type": "stream",
     "text": [
      "  |   |  \n",
      "--+---+--\n",
      "  |   |  \n",
      "--+---+--\n",
      "  |   |  \n"
     ]
    }
   ],
   "source": [
    "print_board(board)"
   ]
  },
  {
   "cell_type": "markdown",
   "id": "3c4aeff2-5900-4a07-bd18-62ba4f7df75b",
   "metadata": {},
   "source": [
    "**Winning Moves**\n",
    "\n",
    "1. 1-2-3\n",
    "2. 1-4-7\n",
    "3. 1-5-9\n",
    "4. 3-5-7\n",
    "5. 3-6-9\n",
    "6. 7-8-9\n",
    "7. 2-5-8\n",
    "8. 4-5-6"
   ]
  },
  {
   "cell_type": "code",
   "execution_count": 63,
   "id": "2c606393-b9ad-4a73-8572-14aedf1d75bd",
   "metadata": {},
   "outputs": [],
   "source": [
    "def check_winner(board, player):\n",
    "    #check for rows\n",
    "    for i in range(3):\n",
    "        if np.all(board[i,:] == player):\n",
    "            return True\n",
    "\n",
    "    #check for columns\n",
    "    for i in range(3):\n",
    "        if np.all(board[:, i] == player):\n",
    "            return True\n",
    "\n",
    "    #check for diagonals\n",
    "    if np.all(np.diag(board) == player) or np.all(np.diag(np.fliplr(board)) == player):\n",
    "        return True\n",
    "\n",
    "    #if none of the above conditions return true, return false\n",
    "    return False"
   ]
  },
  {
   "cell_type": "code",
   "execution_count": 97,
   "id": "767ee58a-07bc-46ab-b30e-c51b14b231f8",
   "metadata": {},
   "outputs": [],
   "source": [
    "def get_available_moves(board):\n",
    "    return [(int (r), int (c)) for r, c in zip(*np.where(board == ' '))]"
   ]
  },
  {
   "cell_type": "code",
   "execution_count": 98,
   "id": "29413dfb-243a-4f79-84f3-2c5385876b84",
   "metadata": {},
   "outputs": [
    {
     "data": {
      "text/plain": [
       "[(0, 0), (0, 1), (0, 2), (1, 0), (1, 1), (1, 2), (2, 0), (2, 1), (2, 2)]"
      ]
     },
     "execution_count": 98,
     "metadata": {},
     "output_type": "execute_result"
    }
   ],
   "source": [
    "get_available_moves(board)"
   ]
  },
  {
   "cell_type": "code",
   "execution_count": null,
   "id": "c60cfeb1-28ae-4a22-9bb1-208b098e0020",
   "metadata": {},
   "outputs": [],
   "source": [
    "def get_best_moves(board,player):\n",
    "    #get the opponent right\n",
    "    if player == \"X\":\n",
    "        opponent = \"O\"\n",
    "    else:\n",
    "        opponent = \"X\"\n",
    "\n",
    "    #implmenting rule 1 : if there's a winning step, mark it\n",
    "    "
   ]
  },
  {
   "cell_type": "code",
   "execution_count": null,
   "id": "ad81b11f-71a6-45c4-ad7d-83eff12fe9cf",
   "metadata": {},
   "outputs": [],
   "source": []
  }
 ],
 "metadata": {
  "kernelspec": {
   "display_name": "Python 3 (ipykernel)",
   "language": "python",
   "name": "python3"
  },
  "language_info": {
   "codemirror_mode": {
    "name": "ipython",
    "version": 3
   },
   "file_extension": ".py",
   "mimetype": "text/x-python",
   "name": "python",
   "nbconvert_exporter": "python",
   "pygments_lexer": "ipython3",
   "version": "3.13.1"
  }
 },
 "nbformat": 4,
 "nbformat_minor": 5
}
