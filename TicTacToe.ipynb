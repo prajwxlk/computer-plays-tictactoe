{
 "cells": [
  {
   "cell_type": "markdown",
   "id": "ed951b20-6cb1-426c-9b80-5b6c58be9db9",
   "metadata": {},
   "source": [
    "# Computer plays TicTacToe"
   ]
  },
  {
   "cell_type": "markdown",
   "id": "46ad891e-17bc-4d9d-9625-e20dd1ea6cbf",
   "metadata": {},
   "source": [
    "### 1. Rule-based Logic\n",
    "1. If you can win in the next step, mark the winning block.\n",
    "2. If the opponent is winning in the next step, mark the block which blocks the opponent from winning.\n",
    "3. If the center block is available, mark it.\n",
    "4. If a corner piece, is available - mark it.\n",
    "5. If none of the above moves are available, mark a side block"
   ]
  },
  {
   "cell_type": "code",
   "execution_count": 31,
   "id": "119604d8-3de8-4912-8041-8c40bfdef5ca",
   "metadata": {},
   "outputs": [],
   "source": [
    "import numpy as np"
   ]
  },
  {
   "cell_type": "code",
   "execution_count": 32,
   "id": "aadcee76-6eee-4a10-bdaf-78a93782cc07",
   "metadata": {},
   "outputs": [],
   "source": [
    "board = np.full((3, 3), \" \", dtype=str)"
   ]
  },
  {
   "cell_type": "code",
   "execution_count": 33,
   "id": "dfc35775-c6da-4152-aa82-b30145706318",
   "metadata": {},
   "outputs": [],
   "source": [
    "def print_board(board):\n",
    "    print(f\"{board[0][0]} | {board[0][1]} | {board[0][2]}\")\n",
    "    print(\"--+---+--\")\n",
    "    print(f\"{board[1][0]} | {board[1][1]} | {board[1][2]}\")\n",
    "    print(\"--+---+--\")\n",
    "    print(f\"{board[2][0]} | {board[2][1]} | {board[2][2]}\")"
   ]
  },
  {
   "cell_type": "code",
   "execution_count": 34,
   "id": "20ff186a-b0d3-464a-a6ea-486107fe40fa",
   "metadata": {},
   "outputs": [
    {
     "name": "stdout",
     "output_type": "stream",
     "text": [
      "  |   |  \n",
      "--+---+--\n",
      "  |   |  \n",
      "--+---+--\n",
      "  |   |  \n"
     ]
    }
   ],
   "source": [
    "print_board(board)"
   ]
  },
  {
   "cell_type": "markdown",
   "id": "3c4aeff2-5900-4a07-bd18-62ba4f7df75b",
   "metadata": {},
   "source": [
    "**Winning Moves**\n",
    "\n",
    "1. 1-2-3\n",
    "2. 1-4-7\n",
    "3. 1-5-9\n",
    "4. 3-5-7\n",
    "5. 3-6-9\n",
    "6. 7-8-9\n",
    "7. 2-5-8\n",
    "8. 4-5-6"
   ]
  },
  {
   "cell_type": "code",
   "execution_count": 35,
   "id": "2c606393-b9ad-4a73-8572-14aedf1d75bd",
   "metadata": {},
   "outputs": [],
   "source": [
    "def check_winner(board, player):\n",
    "    #check for rows\n",
    "    for i in range(3):\n",
    "        if np.all(board[i,:] == player):\n",
    "            return True\n",
    "\n",
    "    #check for columns\n",
    "    for i in range(3):\n",
    "        if np.all(board[:, i] == player):\n",
    "            return True\n",
    "\n",
    "    #check for diagonals\n",
    "    if np.all(np.diag(board) == player) or np.all(np.diag(np.fliplr(board)) == player):\n",
    "        return True\n",
    "\n",
    "    #if none of the above conditions return true, return false\n",
    "    return False"
   ]
  },
  {
   "cell_type": "code",
   "execution_count": 36,
   "id": "767ee58a-07bc-46ab-b30e-c51b14b231f8",
   "metadata": {},
   "outputs": [],
   "source": [
    "def get_available_moves(board):\n",
    "    return [(int (r), int (c)) for r, c in zip(*np.where(board == ' '))]"
   ]
  },
  {
   "cell_type": "code",
   "execution_count": 37,
   "id": "29413dfb-243a-4f79-84f3-2c5385876b84",
   "metadata": {},
   "outputs": [
    {
     "data": {
      "text/plain": [
       "[(0, 0), (0, 1), (0, 2), (1, 0), (1, 1), (1, 2), (2, 0), (2, 1), (2, 2)]"
      ]
     },
     "execution_count": 37,
     "metadata": {},
     "output_type": "execute_result"
    }
   ],
   "source": [
    "get_available_moves(board)"
   ]
  },
  {
   "cell_type": "code",
   "execution_count": 38,
   "id": "c60cfeb1-28ae-4a22-9bb1-208b098e0020",
   "metadata": {},
   "outputs": [],
   "source": [
    "def get_best_moves(board,player):\n",
    "    #get the opponent right\n",
    "    if player == \"X\":\n",
    "        opponent = \"O\"\n",
    "    else:\n",
    "        opponent = \"X\"\n",
    "\n",
    "    #implmenting rule 1 : if there's a winning step, mark it\n",
    "    for r, c in get_available_moves(board):\n",
    "        board[r, c] = player #fill the position with player\n",
    "        if check_winner(board, player):\n",
    "            return (r, c)\n",
    "        board[r,c] = \" \" #undo the filled position\n",
    "\n",
    "    #implmenting rule 2 : blocking the opponent's winning move\n",
    "    for r, c in get_available_moves(board):\n",
    "        board[r, c] = opponent #fill the position with opponent\n",
    "        if check_winner(board, opponent):\n",
    "            return (r, c)\n",
    "        board[r, c] = \" \" #undo the filled position\n",
    "\n",
    "    #implementing rule 3 : occupy center block if available\n",
    "    if board[1][1] == \" \": #we check here if the center block is available\n",
    "        return (1, 1)\n",
    "\n",
    "    #implementing rule 4 : occoupy corner pieces\n",
    "    corners = [(0,0), (0, 2), (2, 0), (2,2)] #we go thorugh all the corner pices and see if any is available\n",
    "    for r, c in corners:\n",
    "        if board[r, c] == \" \":\n",
    "            return (r, c)\n",
    "\n",
    "    #implementing rule 5 : if any side pieces are available, take it\n",
    "    sidepieces = [(0,1), (1, 0), (1, 2), (2,1)] #we go through all side pieces to check if any is available\n",
    "    for r, c in sidepieces:\n",
    "        if board[r, c] == \" \":\n",
    "            return (r, c)\n",
    "\n",
    "    return None #return None if there is no valid move to play"
   ]
  },
  {
   "cell_type": "markdown",
   "id": "57967c20-07d1-4e8c-a4d6-f256b88b302c",
   "metadata": {},
   "source": [
    "# self play simulation"
   ]
  },
  {
   "cell_type": "code",
   "execution_count": 39,
   "id": "cbdea388-c7f3-4090-87cd-5757c7e10283",
   "metadata": {},
   "outputs": [],
   "source": [
    "def play_game():\n",
    "    #initialize new fresh board\n",
    "    board = np.full((3, 3), \" \")\n",
    "\n",
    "    #set current player to X\n",
    "    current_player = \"X\"\n",
    "\n",
    "    while True:\n",
    "        #print the fresh board\n",
    "        print_board(board)\n",
    "\n",
    "        #get the best move for the player\n",
    "        move = get_best_moves(board, current_player)\n",
    "\n",
    "        #if no valid move is remaining, draw the match\n",
    "        if move is None:\n",
    "            print(\"It's a draw\")\n",
    "            break\n",
    "\n",
    "        #set the player's best move as selected move\n",
    "        board[move] = current_player\n",
    "\n",
    "        #check if the player wins with the selected move\n",
    "        if check_winner(board, current_player):\n",
    "            print_board(board)\n",
    "            print(f\"Player {current_player} wins!\")\n",
    "            break\n",
    "\n",
    "        #switch players\n",
    "        current_player = \"O\" if current_player == \"X\" else \"X\""
   ]
  },
  {
   "cell_type": "code",
   "execution_count": 44,
   "id": "abbc90c4-38d3-499d-8c48-85a406d3360a",
   "metadata": {},
   "outputs": [
    {
     "name": "stdout",
     "output_type": "stream",
     "text": [
      "  |   |  \n",
      "--+---+--\n",
      "  |   |  \n",
      "--+---+--\n",
      "  |   |  \n",
      "  |   |  \n",
      "--+---+--\n",
      "  | X |  \n",
      "--+---+--\n",
      "  |   |  \n",
      "O |   |  \n",
      "--+---+--\n",
      "  | X |  \n",
      "--+---+--\n",
      "  |   |  \n",
      "O |   | X\n",
      "--+---+--\n",
      "  | X |  \n",
      "--+---+--\n",
      "  |   |  \n",
      "O |   | X\n",
      "--+---+--\n",
      "  | X |  \n",
      "--+---+--\n",
      "O |   |  \n",
      "O |   | X\n",
      "--+---+--\n",
      "X | X |  \n",
      "--+---+--\n",
      "O |   |  \n",
      "O |   | X\n",
      "--+---+--\n",
      "X | X | O\n",
      "--+---+--\n",
      "O |   |  \n",
      "O |   | X\n",
      "--+---+--\n",
      "X | X | O\n",
      "--+---+--\n",
      "O |   | X\n",
      "O | O | X\n",
      "--+---+--\n",
      "X | X | O\n",
      "--+---+--\n",
      "O |   | X\n",
      "O | O | X\n",
      "--+---+--\n",
      "X | X | O\n",
      "--+---+--\n",
      "O | X | X\n",
      "It's a draw\n"
     ]
    }
   ],
   "source": [
    "play_game()"
   ]
  },
  {
   "cell_type": "code",
   "execution_count": null,
   "id": "56fcd642-11ff-418f-8f5b-255cb138dc00",
   "metadata": {},
   "outputs": [],
   "source": []
  },
  {
   "cell_type": "code",
   "execution_count": null,
   "id": "60c5185f-e8c9-4bdf-bc07-3955f6637413",
   "metadata": {},
   "outputs": [],
   "source": []
  },
  {
   "cell_type": "code",
   "execution_count": null,
   "id": "a0cd58b7-bb25-4617-ac4b-7aab8e5c98bd",
   "metadata": {},
   "outputs": [],
   "source": []
  },
  {
   "cell_type": "code",
   "execution_count": null,
   "id": "292f3df9-bf30-419f-b84b-4db28fd26f9c",
   "metadata": {},
   "outputs": [],
   "source": []
  }
 ],
 "metadata": {
  "kernelspec": {
   "display_name": "Python 3 (ipykernel)",
   "language": "python",
   "name": "python3"
  },
  "language_info": {
   "codemirror_mode": {
    "name": "ipython",
    "version": 3
   },
   "file_extension": ".py",
   "mimetype": "text/x-python",
   "name": "python",
   "nbconvert_exporter": "python",
   "pygments_lexer": "ipython3",
   "version": "3.13.1"
  }
 },
 "nbformat": 4,
 "nbformat_minor": 5
}
