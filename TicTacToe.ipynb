{
 "cells": [
  {
   "cell_type": "markdown",
   "id": "ed951b20-6cb1-426c-9b80-5b6c58be9db9",
   "metadata": {},
   "source": [
    "# Computer plays TicTacToe"
   ]
  },
  {
   "cell_type": "markdown",
   "id": "46ad891e-17bc-4d9d-9625-e20dd1ea6cbf",
   "metadata": {},
   "source": [
    "### 1. Rule-based Logic\n",
    "1. If you can win in the next step, mark the winning block.\n",
    "2. If the opponent is winning in the next step, mark the block which blocks the opponent from winning.\n",
    "3. If the center block is available, mark it.\n",
    "4. If a corner piece, is available - mark it.\n",
    "5. If none of the above moves are available, mark a side block"
   ]
  },
  {
   "cell_type": "code",
   "execution_count": 58,
   "id": "119604d8-3de8-4912-8041-8c40bfdef5ca",
   "metadata": {},
   "outputs": [],
   "source": [
    "import numpy as np"
   ]
  },
  {
   "cell_type": "code",
   "execution_count": 59,
   "id": "aadcee76-6eee-4a10-bdaf-78a93782cc07",
   "metadata": {},
   "outputs": [],
   "source": [
    "board = np.full((3, 3), \" \", dtype=str)"
   ]
  },
  {
   "cell_type": "code",
   "execution_count": 60,
   "id": "dfc35775-c6da-4152-aa82-b30145706318",
   "metadata": {},
   "outputs": [],
   "source": [
    "def print_board(board):\n",
    "    print(f\"{board[0][0]} | {board[0][1]} | {board[0][2]}\")\n",
    "    print(\"--+---+--\")\n",
    "    print(f\"{board[1][0]} | {board[1][1]} | {board[1][2]}\")\n",
    "    print(\"--+---+--\")\n",
    "    print(f\"{board[2][0]} | {board[2][1]} | {board[2][2]}\")"
   ]
  },
  {
   "cell_type": "code",
   "execution_count": 61,
   "id": "20ff186a-b0d3-464a-a6ea-486107fe40fa",
   "metadata": {},
   "outputs": [
    {
     "name": "stdout",
     "output_type": "stream",
     "text": [
      "  |   |  \n",
      "--+---+--\n",
      "  |   |  \n",
      "--+---+--\n",
      "  |   |  \n"
     ]
    }
   ],
   "source": [
    "print_board(board)"
   ]
  },
  {
   "cell_type": "markdown",
   "id": "3c4aeff2-5900-4a07-bd18-62ba4f7df75b",
   "metadata": {},
   "source": [
    "**Winning Moves**\n",
    "\n",
    "1. 1-2-3\n",
    "2. 1-4-7\n",
    "3. 1-5-9\n",
    "4. 3-5-7\n",
    "5. 3-6-9\n",
    "6. 7-8-9\n",
    "7. 2-5-8\n",
    "8. 4-5-6"
   ]
  },
  {
   "cell_type": "code",
   "execution_count": 62,
   "id": "2c606393-b9ad-4a73-8572-14aedf1d75bd",
   "metadata": {},
   "outputs": [],
   "source": [
    "def check_winner(board, player):\n",
    "    # Check for rows\n",
    "    for i in range(3):\n",
    "        if np.all(board[i, :] == player):\n",
    "            return True\n",
    "\n",
    "    # Check for columns\n",
    "    for i in range(3):\n",
    "        if np.all(board[:, i] == player):\n",
    "            return True\n",
    "\n",
    "    # Check for diagonals\n",
    "    if np.all(np.diag(board) == player) or np.all(np.diag(np.fliplr(board)) == player):\n",
    "        return True\n",
    "\n",
    "    return False"
   ]
  },
  {
   "cell_type": "code",
   "execution_count": 63,
   "id": "767ee58a-07bc-46ab-b30e-c51b14b231f8",
   "metadata": {},
   "outputs": [],
   "source": [
    "def get_available_moves(board):\n",
    "    return [(int(r), int(c)) for r, c in zip(*np.where(board == ' '))]"
   ]
  },
  {
   "cell_type": "code",
   "execution_count": 64,
   "id": "29413dfb-243a-4f79-84f3-2c5385876b84",
   "metadata": {},
   "outputs": [
    {
     "data": {
      "text/plain": [
       "[(0, 0), (0, 1), (0, 2), (1, 0), (1, 1), (1, 2), (2, 0), (2, 1), (2, 2)]"
      ]
     },
     "execution_count": 64,
     "metadata": {},
     "output_type": "execute_result"
    }
   ],
   "source": [
    "get_available_moves(board)"
   ]
  },
  {
   "cell_type": "code",
   "execution_count": 65,
   "id": "c60cfeb1-28ae-4a22-9bb1-208b098e0020",
   "metadata": {},
   "outputs": [],
   "source": [
    "def get_best_move(board, player):\n",
    "    opponent = \"O\" if player == \"X\" else \"X\"\n",
    "\n",
    "    # Rule 1: If there's a winning step, take it\n",
    "    for r, c in get_available_moves(board):\n",
    "        board[r, c] = player\n",
    "        if check_winner(board, player):\n",
    "            board[r, c] = \" \"  # Undo the move\n",
    "            return (r, c)\n",
    "        board[r, c] = \" \"  # Undo the move\n",
    "\n",
    "    # Rule 2: Block opponent's winning move\n",
    "    for r, c in get_available_moves(board):\n",
    "        board[r, c] = opponent\n",
    "        if check_winner(board, opponent):\n",
    "            board[r, c] = \" \"  # Undo the move\n",
    "            return (r, c)\n",
    "        board[r, c] = \" \"  # Undo the move\n",
    "\n",
    "    # Rule 3: Take the center if available\n",
    "    if board[1, 1] == \" \":\n",
    "        return (1, 1)\n",
    "\n",
    "    # Rule 4: Take a corner if available\n",
    "    corners = [(0, 0), (0, 2), (2, 0), (2, 2)]\n",
    "    for r, c in corners:\n",
    "        if board[r, c] == \" \":\n",
    "            return (r, c)\n",
    "\n",
    "    # Rule 5: Take a side if available\n",
    "    sides = [(0, 1), (1, 0), (1, 2), (2, 1)]\n",
    "    for r, c in sides:\n",
    "        if board[r, c] == \" \":\n",
    "            return (r, c)\n",
    "\n",
    "    return None"
   ]
  },
  {
   "cell_type": "markdown",
   "id": "57967c20-07d1-4e8c-a4d6-f256b88b302c",
   "metadata": {},
   "source": [
    "# self play simulation"
   ]
  },
  {
   "cell_type": "code",
   "execution_count": 66,
   "id": "cbdea388-c7f3-4090-87cd-5757c7e10283",
   "metadata": {},
   "outputs": [],
   "source": [
    "def play_game():\n",
    "    #initialize new fresh board\n",
    "    board = np.full((3, 3), \" \")\n",
    "\n",
    "    #set current player to X\n",
    "    current_player = \"X\"\n",
    "\n",
    "    while True:\n",
    "        #print the fresh board\n",
    "        print_board(board)\n",
    "\n",
    "        #get the best move for the player\n",
    "        move = get_best_move(board, current_player)\n",
    "\n",
    "        #if no valid move is remaining, draw the match\n",
    "        if move is None:\n",
    "            print(\"It's a draw\")\n",
    "            break\n",
    "\n",
    "        #set the player's best move as selected move\n",
    "        board[move] = current_player\n",
    "\n",
    "        #check if the player wins with the selected move\n",
    "        if check_winner(board, current_player):\n",
    "            print_board(board)\n",
    "            print(f\"Player {current_player} wins!\")\n",
    "            break\n",
    "\n",
    "        #switch players\n",
    "        current_player = \"O\" if current_player == \"X\" else \"X\""
   ]
  },
  {
   "cell_type": "code",
   "execution_count": 67,
   "id": "abbc90c4-38d3-499d-8c48-85a406d3360a",
   "metadata": {},
   "outputs": [
    {
     "name": "stdout",
     "output_type": "stream",
     "text": [
      "  |   |  \n",
      "--+---+--\n",
      "  |   |  \n",
      "--+---+--\n",
      "  |   |  \n",
      "  |   |  \n",
      "--+---+--\n",
      "  | X |  \n",
      "--+---+--\n",
      "  |   |  \n",
      "O |   |  \n",
      "--+---+--\n",
      "  | X |  \n",
      "--+---+--\n",
      "  |   |  \n",
      "O |   | X\n",
      "--+---+--\n",
      "  | X |  \n",
      "--+---+--\n",
      "  |   |  \n",
      "O |   | X\n",
      "--+---+--\n",
      "  | X |  \n",
      "--+---+--\n",
      "O |   |  \n",
      "O |   | X\n",
      "--+---+--\n",
      "X | X |  \n",
      "--+---+--\n",
      "O |   |  \n",
      "O |   | X\n",
      "--+---+--\n",
      "X | X | O\n",
      "--+---+--\n",
      "O |   |  \n",
      "O |   | X\n",
      "--+---+--\n",
      "X | X | O\n",
      "--+---+--\n",
      "O |   | X\n",
      "O | O | X\n",
      "--+---+--\n",
      "X | X | O\n",
      "--+---+--\n",
      "O |   | X\n",
      "O | O | X\n",
      "--+---+--\n",
      "X | X | O\n",
      "--+---+--\n",
      "O | X | X\n",
      "It's a draw\n"
     ]
    }
   ],
   "source": [
    "play_game()"
   ]
  },
  {
   "cell_type": "code",
   "execution_count": 68,
   "id": "56fcd642-11ff-418f-8f5b-255cb138dc00",
   "metadata": {},
   "outputs": [],
   "source": [
    "import random \n",
    "def simulate_game(starting_player, player_x_strategy=True, player_o_strategy=True):\n",
    "    board = np.full((3, 3), \" \")\n",
    "    current_player = starting_player\n",
    "    move_count = 0\n",
    "\n",
    "    while True:\n",
    "        if current_player == \"X\":\n",
    "            use_smart_strategy = player_x_strategy\n",
    "        else:\n",
    "            use_smart_strategy = player_o_strategy\n",
    "\n",
    "        if use_smart_strategy:\n",
    "            move = get_best_move(board, current_player)\n",
    "        else:\n",
    "            available_moves = get_available_moves(board)\n",
    "            move = random.choice(available_moves) if available_moves else None\n",
    "\n",
    "        if move is None:\n",
    "            return \"Draw\", move_count\n",
    "\n",
    "        board[move] = current_player\n",
    "        move_count += 1\n",
    "\n",
    "        if check_winner(board, current_player):\n",
    "            return current_player, move_count\n",
    "\n",
    "        current_player = \"O\" if current_player == \"X\" else \"X\""
   ]
  },
  {
   "cell_type": "code",
   "execution_count": 69,
   "id": "60c5185f-e8c9-4bdf-bc07-3955f6637413",
   "metadata": {},
   "outputs": [
    {
     "name": "stdout",
     "output_type": "stream",
     "text": [
      "Results after 10000 games with X: Random vs O: Random:\n",
      "X Wins: 4335\n",
      "O Wins: 4432\n",
      "Draws: 1233\n",
      "Total Time Taken: 0.94 seconds\n",
      "Average Moves Per Game: 7.62\n",
      "Least Moves in a Game: 5\n",
      "Most Moves in a Game: 9\n",
      "Results after 10000 games with X: Smart vs O: Random:\n",
      "X Wins: 9112\n",
      "O Wins: 70\n",
      "Draws: 818\n",
      "Total Time Taken: 4.47 seconds\n",
      "Average Moves Per Game: 6.14\n",
      "Least Moves in a Game: 5\n",
      "Most Moves in a Game: 9\n",
      "Results after 10000 games with X: Smart vs O: Smart:\n",
      "X Wins: 0\n",
      "O Wins: 0\n",
      "Draws: 10000\n",
      "Total Time Taken: 10.12 seconds\n",
      "Average Moves Per Game: 9.00\n",
      "Least Moves in a Game: 9\n",
      "Most Moves in a Game: 9\n"
     ]
    }
   ],
   "source": [
    "import time\n",
    "\n",
    "def run_simulation(num_games=10000, player_x_strategy=True, player_o_strategy=True):\n",
    "    start_time = time.time()\n",
    "    x_wins, o_wins, draws = 0, 0, 0\n",
    "    move_counts = []\n",
    "\n",
    "    for _ in range(num_games):\n",
    "        starting_player = random.choice([\"X\", \"O\"])\n",
    "        winner, move_count = simulate_game(starting_player, player_x_strategy, player_o_strategy)\n",
    "        if winner == \"X\":\n",
    "            x_wins += 1\n",
    "        elif winner == \"O\":\n",
    "            o_wins += 1\n",
    "        else:\n",
    "            draws += 1\n",
    "        move_counts.append(move_count)\n",
    "\n",
    "    total_time = time.time() - start_time\n",
    "    avg_moves = sum(move_counts) / num_games\n",
    "    min_moves = min(move_counts)\n",
    "    max_moves = max(move_counts)\n",
    "\n",
    "    strategy_type_x = \"Smart\" if player_x_strategy else \"Random\"\n",
    "    strategy_type_o = \"Smart\" if player_o_strategy else \"Random\"\n",
    "    print(f\"Results after {num_games} games with X: {strategy_type_x} vs O: {strategy_type_o}:\")\n",
    "    print(f\"X Wins: {x_wins}\")\n",
    "    print(f\"O Wins: {o_wins}\")\n",
    "    print(f\"Draws: {draws}\")\n",
    "    print(f\"Total Time Taken: {total_time:.2f} seconds\")\n",
    "    print(f\"Average Moves Per Game: {avg_moves:.2f}\")\n",
    "    print(f\"Least Moves in a Game: {min_moves}\")\n",
    "    print(f\"Most Moves in a Game: {max_moves}\")\n",
    "\n",
    "# Run simulations\n",
    "run_simulation(10000, player_x_strategy=False, player_o_strategy=False)  # Random vs Random\n",
    "run_simulation(10000, player_x_strategy=True, player_o_strategy=False)   # Smart vs Random\n",
    "run_simulation(10000, player_x_strategy=True, player_o_strategy=True)    # Smart vs Smart"
   ]
  },
  {
   "cell_type": "code",
   "execution_count": null,
   "id": "3e37567d-f67d-408d-85f2-68f5214ba265",
   "metadata": {},
   "outputs": [],
   "source": []
  }
 ],
 "metadata": {
  "kernelspec": {
   "display_name": ".venv",
   "language": "python",
   "name": "python3"
  },
  "language_info": {
   "codemirror_mode": {
    "name": "ipython",
    "version": 3
   },
   "file_extension": ".py",
   "mimetype": "text/x-python",
   "name": "python",
   "nbconvert_exporter": "python",
   "pygments_lexer": "ipython3",
   "version": "3.13.1"
  }
 },
 "nbformat": 4,
 "nbformat_minor": 5
}
